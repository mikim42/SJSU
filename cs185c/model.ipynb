{
 "cells": [
  {
   "cell_type": "code",
   "execution_count": 1,
   "metadata": {},
   "outputs": [],
   "source": [
    "import numpy as np\n",
    "import tensorflow as tf"
   ]
  },
  {
   "cell_type": "code",
   "execution_count": 2,
   "metadata": {},
   "outputs": [],
   "source": [
    "npz = np.load('Business_case_dataset_train.npz')\n",
    "train_inputs, train_targets = npz['inputs'].astype(np.float), npz['targets'].astype(np.int)\n",
    "\n",
    "npz = np.load('Business_case_dataset_validation.npz')\n",
    "validation_inputs, validation_targets = npz['inputs'].astype(np.float), npz['targets'].astype(np.int)\n",
    "\n",
    "npz = np.load('Business_case_dataset_test.npz')\n",
    "test_inputs, test_targets = npz['inputs'].astype(np.float), npz['targets'].astype(np.int)"
   ]
  },
  {
   "cell_type": "code",
   "execution_count": 3,
   "metadata": {},
   "outputs": [],
   "source": [
    "input_size = 10\n",
    "output_size = 2\n",
    "hidden_layer_size = int(2/3 * (input_size * output_size))\n",
    "# int(train_inputs.shape[0] / (2.0 * (input_size + output_size)))\n",
    "# int(2/3 * (input_size * output_size))\n",
    "\n",
    "model = tf.keras.Sequential([\n",
    "                            tf.keras.layers.Dense(hidden_layer_size * 1.0, activation='relu'),\n",
    "                            tf.keras.layers.Dense(hidden_layer_size * .75, activation='relu'),\n",
    "                            tf.keras.layers.Dense(hidden_layer_size * .50, activation='relu'),\n",
    "                            tf.keras.layers.Dense(hidden_layer_size * .25, activation='relu'),\n",
    "                            tf.keras.layers.Dense(output_size, activation='softmax')   \n",
    "                            ])"
   ]
  },
  {
   "cell_type": "code",
   "execution_count": 4,
   "metadata": {},
   "outputs": [],
   "source": [
    "model.compile(optimizer='adam', loss='sparse_categorical_crossentropy', metrics=['accuracy'])"
   ]
  },
  {
   "cell_type": "code",
   "execution_count": 5,
   "metadata": {},
   "outputs": [
    {
     "name": "stdout",
     "output_type": "stream",
     "text": [
      "WARNING:tensorflow:From /Users/kimminseok/.local/lib/python3.7/site-packages/tensorflow_core/python/ops/resource_variable_ops.py:1630: calling BaseResourceVariable.__init__ (from tensorflow.python.ops.resource_variable_ops) with constraint is deprecated and will be removed in a future version.\n",
      "Instructions for updating:\n",
      "If using Keras pass *_constraint arguments to layers.\n",
      "Train on 3579 samples, validate on 447 samples\n",
      "Epoch 1/100\n",
      "3579/3579 - 0s - loss: 0.7248 - acc: 0.5650 - val_loss: 0.6475 - val_acc: 0.6913\n",
      "Epoch 2/100\n",
      "3579/3579 - 0s - loss: 0.6156 - acc: 0.7443 - val_loss: 0.5534 - val_acc: 0.8054\n",
      "Epoch 3/100\n",
      "3579/3579 - 0s - loss: 0.5362 - acc: 0.8226 - val_loss: 0.4822 - val_acc: 0.8412\n",
      "Epoch 4/100\n",
      "3579/3579 - 0s - loss: 0.4859 - acc: 0.8567 - val_loss: 0.4473 - val_acc: 0.8546\n",
      "Epoch 5/100\n",
      "3579/3579 - 0s - loss: 0.4549 - acc: 0.8692 - val_loss: 0.4244 - val_acc: 0.8568\n",
      "Epoch 6/100\n",
      "3579/3579 - 0s - loss: 0.4316 - acc: 0.8740 - val_loss: 0.4099 - val_acc: 0.8658\n",
      "Epoch 7/100\n",
      "3579/3579 - 0s - loss: 0.4121 - acc: 0.8765 - val_loss: 0.3944 - val_acc: 0.8747\n",
      "Epoch 8/100\n",
      "3579/3579 - 0s - loss: 0.3953 - acc: 0.8821 - val_loss: 0.3836 - val_acc: 0.8725\n",
      "Epoch 9/100\n",
      "3579/3579 - 0s - loss: 0.3808 - acc: 0.8866 - val_loss: 0.3717 - val_acc: 0.8747\n",
      "Epoch 10/100\n",
      "3579/3579 - 0s - loss: 0.3677 - acc: 0.8885 - val_loss: 0.3565 - val_acc: 0.8770\n",
      "Epoch 11/100\n",
      "3579/3579 - 0s - loss: 0.3554 - acc: 0.8910 - val_loss: 0.3481 - val_acc: 0.8837\n",
      "Epoch 12/100\n",
      "3579/3579 - 0s - loss: 0.3462 - acc: 0.8930 - val_loss: 0.3436 - val_acc: 0.8881\n",
      "Epoch 13/100\n",
      "3579/3579 - 0s - loss: 0.3355 - acc: 0.8966 - val_loss: 0.3298 - val_acc: 0.8949\n",
      "Epoch 14/100\n",
      "3579/3579 - 0s - loss: 0.3263 - acc: 0.8991 - val_loss: 0.3213 - val_acc: 0.8949\n",
      "Epoch 15/100\n",
      "3579/3579 - 0s - loss: 0.3178 - acc: 0.9025 - val_loss: 0.3155 - val_acc: 0.9016\n",
      "Epoch 16/100\n",
      "3579/3579 - 0s - loss: 0.3096 - acc: 0.9047 - val_loss: 0.3123 - val_acc: 0.9016\n",
      "Epoch 17/100\n",
      "3579/3579 - 0s - loss: 0.3023 - acc: 0.9067 - val_loss: 0.3068 - val_acc: 0.8949\n",
      "Epoch 18/100\n",
      "3579/3579 - 0s - loss: 0.2975 - acc: 0.9078 - val_loss: 0.3033 - val_acc: 0.8993\n",
      "Epoch 19/100\n",
      "3579/3579 - 0s - loss: 0.2907 - acc: 0.9075 - val_loss: 0.2996 - val_acc: 0.9060\n",
      "Epoch 20/100\n",
      "3579/3579 - 0s - loss: 0.2889 - acc: 0.9078 - val_loss: 0.2968 - val_acc: 0.9060\n",
      "Epoch 21/100\n",
      "3579/3579 - 0s - loss: 0.2820 - acc: 0.9095 - val_loss: 0.2934 - val_acc: 0.9016\n",
      "Epoch 22/100\n",
      "3579/3579 - 0s - loss: 0.2779 - acc: 0.9106 - val_loss: 0.2952 - val_acc: 0.8993\n",
      "Epoch 23/100\n",
      "3579/3579 - 0s - loss: 0.2736 - acc: 0.9125 - val_loss: 0.2891 - val_acc: 0.9038\n",
      "Epoch 24/100\n",
      "3579/3579 - 0s - loss: 0.2700 - acc: 0.9137 - val_loss: 0.2925 - val_acc: 0.8993\n",
      "Epoch 25/100\n",
      "3579/3579 - 0s - loss: 0.2698 - acc: 0.9128 - val_loss: 0.2830 - val_acc: 0.9016\n",
      "Epoch 26/100\n",
      "3579/3579 - 0s - loss: 0.2649 - acc: 0.9134 - val_loss: 0.2840 - val_acc: 0.9038\n",
      "Epoch 27/100\n",
      "3579/3579 - 0s - loss: 0.2618 - acc: 0.9139 - val_loss: 0.2838 - val_acc: 0.9016\n"
     ]
    },
    {
     "data": {
      "text/plain": [
       "<tensorflow.python.keras.callbacks.History at 0x62e4dde50>"
      ]
     },
     "execution_count": 5,
     "metadata": {},
     "output_type": "execute_result"
    }
   ],
   "source": [
    "batch_size = 64\n",
    "max_epochs = 100\n",
    "early_stopping = tf.keras.callbacks.EarlyStopping(patience=2)\n",
    "\n",
    "model.fit(train_inputs,\n",
    "          train_targets,\n",
    "          batch_size=batch_size,\n",
    "          epochs=max_epochs,\n",
    "          callbacks=[early_stopping],\n",
    "          validation_data=(validation_inputs, validation_targets),\n",
    "          validation_steps=10,\n",
    "          verbose=2\n",
    "         )"
   ]
  },
  {
   "cell_type": "code",
   "execution_count": 6,
   "metadata": {
    "scrolled": true
   },
   "outputs": [
    {
     "name": "stdout",
     "output_type": "stream",
     "text": [
      "448/448 [==============================] - 0s 27us/sample - loss: 0.2609 - acc: 0.9152\n",
      "447/447 [==============================] - 0s 23us/sample - loss: 0.2838 - acc: 0.9016\n"
     ]
    }
   ],
   "source": [
    "test_loss, test_accuracy = model.evaluate(test_inputs, test_targets)\n",
    "validation_loss, validation_accuracy = model.evaluate(validation_inputs, validation_targets)"
   ]
  },
  {
   "cell_type": "code",
   "execution_count": 7,
   "metadata": {},
   "outputs": [
    {
     "name": "stdout",
     "output_type": "stream",
     "text": [
      "Test loss: 0.26. Test accuracy: 91.52%\n",
      "Val. loss: 0.28. Val. accuracy: 90.16%\n",
      "98.51%\n"
     ]
    }
   ],
   "source": [
    "print('Test loss: {0:.2f}. Test accuracy: {1:.2f}%'.format(test_loss, test_accuracy*100.0))\n",
    "print('Val. loss: {0:.2f}. Val. accuracy: {1:.2f}%'.format(validation_loss, validation_accuracy*100.0))\n",
    "print('{1:.2f}%'.format(0, validation_accuracy / test_accuracy * 100.0))"
   ]
  }
 ],
 "metadata": {
  "kernelspec": {
   "display_name": "Python3-TensorFlow2",
   "language": "python",
   "name": "python3-tensorflow2"
  },
  "language_info": {
   "codemirror_mode": {
    "name": "ipython",
    "version": 3
   },
   "file_extension": ".py",
   "mimetype": "text/x-python",
   "name": "python",
   "nbconvert_exporter": "python",
   "pygments_lexer": "ipython3",
   "version": "3.7.6"
  }
 },
 "nbformat": 4,
 "nbformat_minor": 2
}
